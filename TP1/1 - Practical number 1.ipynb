{
 "cells": [
  {
   "cell_type": "markdown",
   "metadata": {},
   "source": [
    "# General Knowledge of API\n",
    "\n",
    "APIs, or Application Programming Interfaces, play a pivotal role in modern software development by facilitating communication and data exchange between different systems. They serve as bridges that allow applications to interact with each other seamlessly, enabling the creation of more robust and interconnected software.\n",
    "\n",
    "APIs come in various forms, each serving specific purposes in the realm of software development. Let's explore some fundamental concepts:"
   ]
  },
  {
   "cell_type": "markdown",
   "metadata": {},
   "source": [
    "- **Question 1:** *Name three types of API protocols. Briefly explain the primary use of each.*\n",
    "\n",
    "  - SOAP (simple object access protocol) : for exchanging structured information in web services, uses XML, formatted by WSDL rules (web services description language), built in error handling, supports stateful operations\n",
    "\n",
    "  - Rest (Representational State Transfer): architectural style for building APIs that interact over HTTP, uses standard HTTP methods (GET, POST, PUT, DELETE) and supports multiple formats (JSON, XML), focuses on statelessness, scalability, and simplicity\n",
    "\n",
    "\n",
    "  - GraphQL  : query language and runtime for APIs developed by Facebook, allows clients to request only the data they need, reducing over-fetching or under-fetching, supports complex nested queries and real-time data with subscriptions\n",
    "\n",
    "  \n",
    "\n",
    "\n",
    "- **Question 2:** *What are the HTTP response code families? And what do they mean?*\n",
    "\n",
    "  - 1xx (Informational): The request was received, and the process is continuing.\n",
    "  - 2xx (Success): The request was successfully received, understood, and accepted.\n",
    "  - 3xx (Redirection): Further action is required to complete the request.\n",
    "  - 4xx (Client Error): The request contains bad syntax or cannot be fulfilled by the server.\n",
    "  - 5xx (Server Error): The server failed to fulfill a valid request due to an error on its side.  - \n",
    "\n",
    "  Understanding these families helps developers diagnose and troubleshoot issues during API interactions.\n",
    "\n",
    "- **Question 3:** *What do the HTTP response codes 201, 401, and 404 mean?*\n",
    "\n",
    "  - 201: Successful Request\n",
    "  - 401: Unauthorized\n",
    "  - 404: Not Found\n",
    "\n",
    "- **Question 4:** *Name the 4 basic HTTP verbs.*\n",
    "\n",
    "  - GET\n",
    "  - POST\n",
    "  - PUT\n",
    "  - PATCH\n",
    "  - DELETE\n",
    "\n",
    "- **Question 5:** *Explain the difference between PUT and PATCH?*\n",
    "\n",
    "  - PUT: Completely updates a ressource\n",
    "\n",
    "  - PATCH: Partialy updates a ressource\n",
    "\n",
    "- **Question 6:** *Name at least two data formats commonly used in API exchanges.*\n",
    "\n",
    "  - JSON (JavaScript Object Notation): A lightweight, text-based format that is easy for both humans and machines to read and write. It is widely used in REST APIs.\n",
    "\n",
    "  - XML (eXtensible Markup Language): A structured, tag-based format that is more verbose than JSON and is commonly used in SOAP APIs.\n",
    "\n",
    "- **Question 7:** *How can you verify the validity of a resource without getting the entire response?*\n",
    "\n",
    "  - Using the HEAD Request to get only the headers without the body of the ressource\n",
    "\n",
    "- **Question 8:** *What are the main concepts of REST? (name them)*\n",
    "\n",
    "  - Layered System\n",
    "  - Client-server\n",
    "  - Stateless\n",
    "  - Cacheable\n",
    "  - Uniform Interface\n",
    "  - Identifying resources\n",
    "  - Resource handling\n",
    "  - Self-describing message\n",
    "  - Hypermedia\n",
    "  \n",
    "\n",
    "- **Question 9:** *Can you explain one of the main concepts of your choice from among those you mention? (Give an example if possible)*\n",
    "\n",
    "  - Uniform Interface means REST has a standardized and consistent approach to interacting with resources using URIs and HTTP methods (GET, POST, PUT, DELETE, etc.)\n",
    "\n",
    "In the subsequent sections, we will delve into practical exercises to apply and deepen our understanding of these concepts using SOAP, REST, and GraphQL APIs.\n"
   ]
  },
  {
   "cell_type": "markdown",
   "metadata": {},
   "source": [
    "--------------------------"
   ]
  },
  {
   "cell_type": "markdown",
   "metadata": {},
   "source": [
    "# Exploring SOAP APIs\n",
    "\n",
    "### Few elements to remember about the SOAP Protocol\n",
    "\n",
    "The SOAP protocol, which means Simple Object Access Protocol, is one of the earliest web service protocols. SOAP is an XML-based protocol and was designed to provide a platform/language-independent way to exchange data between different systems over the internet.\n",
    "\n",
    "### Key Concepts in SOAP:\n",
    "\n",
    "- **XML-Based Structure:** SOAP messages are structured using XML, making them both human-readable and machine-readable. This structure allows for the encapsulation of data and its transport between systems.\n",
    "\n",
    "- **Platform and Language Independence:** One of the core objectives of SOAP is to provide a communication method that is independent of the underlying platform or programming language. This promotes interoperability between diverse systems.\n",
    "\n",
    "- **Message Format:** SOAP messages consist of an envelope that defines the message structure and rules for processing, a set of encoding rules for data types, and conventions for representing remote procedure calls.\n",
    "\n",
    "- **Transport Neutrality:** SOAP can be used with various transport protocols, including HTTP, SMTP, and more. This flexibility in transport makes it adaptable to different network environments.\n",
    "\n",
    "### Objective\n",
    "\n",
    "Obtain and display the capital of the Canada corresponding to the ISO code \"CA\" using the following SOAP API. \n",
    "Step by step guide :\n",
    "\n",
    "- **Step 1:** Examine the XML structure of the SOAP request provided. Identify the tag name that contains the ISO country code and the tag that will return the capital name.\n",
    "\n",
    "- **Step 2:** Modify the existing SOAP request to use the ISO code \"CA\" isntead of \"FR\". Ensure that the XML structure remains correct.\n",
    "\n",
    "- **Step 3:** Use the modified request to send a request to the SOAP services at the specified URL.\n",
    "\n",
    "- **Step 4:** Analyze the response received. Extract and display the capital name from the SOAP response.\n",
    "\n",
    "- **Step 5:** Remove sections of code that are not necessary to achieve this objective, in order to simply the script.\n",
    "\n",
    "\n",
    "### Documentation link :\n",
    "\n",
    "- https://www.postman.com/cs-demo/workspace/postman-customer-org-s-public-workspace/documentation/8854915-43f6a9be-0c65-4486-bfdf-36b6548161dd?entity=request-96a53688-6305-45be-ab8b-ca1d1c88f830\n",
    "- https://docs.insomnia.rest/"
   ]
  },
  {
   "cell_type": "code",
   "execution_count": 2,
   "metadata": {},
   "outputs": [
    {
     "name": "stdout",
     "output_type": "stream",
     "text": [
      "Ottawa\n"
     ]
    }
   ],
   "source": [
    "import requests\n",
    "import xml.etree.ElementTree as ET\n",
    "\n",
    "# SOAP request URL\n",
    "url = \"http://webservices.oorsprong.org/websamples.countryinfo/CountryInfoService.wso\"\n",
    "\n",
    "# structured XML #Step 2\n",
    "payload = \"\"\"<soap:Envelope xmlns:soap=\"http://schemas.xmlsoap.org/soap/envelope/\">\n",
    "                <soap:Body>\n",
    "                    <CapitalCity xmlns=\"http://www.oorsprong.org/websamples.countryinfo\">\n",
    "                        <sCountryISOCode>CA</sCountryISOCode>\n",
    "                    </CapitalCity>\n",
    "                </soap:Body>\n",
    "                </soap:Envelope>\"\"\"\n",
    "# headers\n",
    "headers = {\n",
    "    'Content-Type': 'text/xml; charset=utf-8'\n",
    "}\n",
    "# Step 3\n",
    "response = requests.request(\"POST\", url, headers=headers, data=payload)\n",
    "\n",
    "# Step 4\n",
    "namespace = {'m': 'http://www.oorsprong.org/websamples.countryinfo'}\n",
    "root = ET.fromstring(response.text)\n",
    "\n",
    "capital = root.find('.//m:CapitalCityResult', namespace)\n",
    "\n",
    "if capital is not None:\n",
    "    print(capital.text)\n",
    "else:\n",
    "    print(\"Élément introuvable.\")"
   ]
  },
  {
   "cell_type": "markdown",
   "metadata": {},
   "source": [
    "--------------------------"
   ]
  },
  {
   "cell_type": "markdown",
   "metadata": {},
   "source": [
    "# REST API Exercise: Star Wars Information Retrieval\n",
    "\n",
    "### Introduction \n",
    "\n",
    "In the exercice, you will explore the Star Wars API (SWAPI) to retrieve and analyze data related to Star Wars characters, films and planets. The SWAPI API is a RESTful web service that provideinformation about Star Wars universe, accessible through various endpoints.\\\n",
    "This exercice is designed to enhance your understanding of working with RESTful APIs, feel free to ask me if you have any question. Each task will build on the previous one so don't hesitate if you are blocked. Make sure to handle bad response code.\n",
    "\n",
    "### Few elements to remember about the REST Protocol\n",
    "\n",
    "REST (Representational State Transfer) is an architectural style for designing networked applications. RESTful APIs (Application Programming Interfaces) conform to the principles of REST, allowing systems to communicate over HTTP in a stateless manner; Some important aspects are:\n",
    "\n",
    "- **Resources:** Everything is a resource, identified by a unique URI.\n",
    "\n",
    "- **HTTP Methods:** CRUD operations are performed using standard HTTP methods (GET, POST, PUT, DELETE).\n",
    "\n",
    "- **Stateless:** Each request from a client contains all the information needed to understand and fulfill the request.\n",
    "\n",
    "### Key Concepts in REST:\n",
    "\n",
    "- **Endpoint:** A specific URI representing a resource. Endpoints are URLs that define where resources can be accessed.\n",
    "\n",
    "- **Basic HTTP Methods:** One of the core objectives of SOAP is to provide a communication method that is independent of the underlying platform or programming language. This promotes interoperability between diverse systems.\n",
    "    - **GET:** Retrieve data from a specified resource.\n",
    "    - **POST:** Submit data to be processed to a specified resource.\n",
    "    - **PUT:** Update a resource.\n",
    "    - **DELETE:** Delete a resource.\n",
    "\n",
    "- **Request and Response:**\n",
    "    - **Request:** The client's message to the server, including the HTTP method, headers, and optional data.\n",
    "    - **Response:** The server's reply to the client's request, containing status information and, optionally, data.\n",
    "\n",
    "\n",
    "### Objective\n",
    "\n",
    "- **Step 1: Introduction:** Find some informations about the SWAPI API : the base URL, the Rate limiting and How to auhtenticate. Find information on all available resources withing this API with a request.\n",
    "\n",
    "- **Step 2: Retrieve Character Information:** Retrieve all characters informations (name, gender, height, ...).\n",
    "\n",
    "- **Step 3: Retrieve Film Information:** Retrieve all films informations (title, director, release date, ...).\n",
    "\n",
    "- **Step 4: Retrieve Planet Information:** Retrieve all planets informations (name, population, climate, ...).\n",
    "\n",
    "- **Step 5: Search and Display:** Create a function to search for and display information about a specific character based on its name. Be sure to handle cases of bad queries and to make at least three unittests with an understandable name.\n",
    "\n",
    "- **Step 6: Advanced Query:** Store in a pandas dataframe all informations about all the characters of the film you want. Group the characters by species at the end.\n",
    "\n",
    "- **Step 7: Data Analysis:** Create an advanced query to retrieve information on all the films, and find a way to rank them according to the number of characters in the film.  \n",
    "\n",
    "- **Step 8 bonus: Additional Endpoint:** Explore an additional endpoint and make a request to display relevant information. For exemple to retrieve starship or vehicles informations.\n",
    "\n",
    "\n",
    "### Documentation link :\n",
    "\n",
    "- https://swapi.dev/documentation"
   ]
  },
  {
   "cell_type": "code",
   "execution_count": 8,
   "metadata": {},
   "outputs": [
    {
     "name": "stdout",
     "output_type": "stream",
     "text": [
      "Failed to fetch API details. Status Code: 404\n"
     ]
    }
   ],
   "source": [
    "import pandas as pd\n",
    "\n",
    "url = \"https://swapi.dev/api/\"\n",
    "params = {\n",
    "}\n",
    "\n",
    "#Step 1\n",
    "response = requests.get(url, params=params)\n",
    "if response.status_code == 200:\n",
    "    data = response.json()\n",
    "    print(f\"Parameters of the API we're working with:\\n{data}\")\n",
    "else:\n",
    "    print(f\"Failed to fetch API details. Status Code: {response.status_code}\")"
   ]
  },
  {
   "cell_type": "code",
   "execution_count": 9,
   "metadata": {},
   "outputs": [
    {
     "name": "stdout",
     "output_type": "stream",
     "text": [
      "Failed to fetch character information. Status Code: 404\n"
     ]
    }
   ],
   "source": [
    "#Step 2\n",
    "url_people = 'https://swapi.dev/api/people/'\n",
    "response = requests.get(url_people, params=params)\n",
    "if response.status_code == 200:\n",
    "    data_people = response.json()\n",
    "    print(f\"Characters: {data_people}\")\n",
    "else:\n",
    "    print(f\"Failed to fetch character information. Status Code: {response.status_code}\")"
   ]
  },
  {
   "cell_type": "code",
   "execution_count": 10,
   "metadata": {},
   "outputs": [
    {
     "name": "stdout",
     "output_type": "stream",
     "text": [
      "Failed to fetch film information. Status Code: 404\n"
     ]
    }
   ],
   "source": [
    "\n",
    "#Step 3\n",
    "url_film = 'https://swapi.dev/api/films/'\n",
    "response = requests.get(url_film, params=params)\n",
    "if response.status_code == 200:\n",
    "    data_film = response.json()\n",
    "    print(f\"Films: {data_film}\")\n",
    "else:\n",
    "    print(f\"Failed to fetch film information. Status Code: {response.status_code}\")"
   ]
  },
  {
   "cell_type": "code",
   "execution_count": 11,
   "metadata": {},
   "outputs": [
    {
     "name": "stdout",
     "output_type": "stream",
     "text": [
      "Failed to fetch planet information. Status Code: 404\n",
      "Information for 'Luke Skywalker': Error fetching character data. Status Code: 404\n"
     ]
    }
   ],
   "source": [
    "#Step 4\n",
    "url_planets = 'https://swapi.dev/api/planets/'\n",
    "response = requests.get(url_planets, params=params)\n",
    "if response.status_code == 200:\n",
    "    data_planets = response.json()\n",
    "    print(f\"Planets: {data_planets}\")\n",
    "else:\n",
    "    print(f\"Failed to fetch planet information. Status Code: {response.status_code}\")\n",
    "\n",
    "#Step 5\n",
    "def search_character(name):\n",
    "    url_search = f\"https://swapi.dev/api/people/?search={name}\"\n",
    "    response = requests.get(url_search)\n",
    "    if response.status_code == 200:\n",
    "        result = response.json()\n",
    "        if result['count'] > 0:\n",
    "            return result['results'][0]  # Return the first matching result\n",
    "        else:\n",
    "            return f\"No character named {name} found\"\n",
    "    else:\n",
    "        return f\"Error fetching character data. Status Code: {response.status_code}\"\n",
    "    \n",
    "character_name = \"Luke Skywalker\"\n",
    "character_info = search_character(character_name)\n",
    "print(f\"Information for '{character_name}': {character_info}\")"
   ]
  },
  {
   "cell_type": "code",
   "execution_count": 12,
   "metadata": {},
   "outputs": [
    {
     "name": "stdout",
     "output_type": "stream",
     "text": [
      "Failed to fetch film characters. Status Code: 404\n"
     ]
    }
   ],
   "source": [
    "#Step 6\n",
    "film_id = 1  #Should return the fantom menace characters\n",
    "url_film_characters = f\"https://swapi.dev/api/films/{film_id}/\"\n",
    "response = requests.get(url_film_characters)\n",
    "if response.status_code == 200:\n",
    "    film_data = response.json()\n",
    "    characters_urls = film_data['characters']\n",
    "    characters_data = []\n",
    "    for char_url in characters_urls:\n",
    "        char_response = requests.get(char_url)\n",
    "        if char_response.status_code == 200:\n",
    "            characters_data.append(char_response.json())\n",
    "    df_characters = pd.DataFrame(characters_data)\n",
    "    grouped_species = df_characters.groupby('species').size()\n",
    "    print(\"Characters grouped by species:\")\n",
    "    print(grouped_species)\n",
    "else:\n",
    "    print(f\"Failed to fetch film characters. Status Code: {response.status_code}\")"
   ]
  },
  {
   "cell_type": "code",
   "execution_count": 13,
   "metadata": {},
   "outputs": [
    {
     "ename": "NameError",
     "evalue": "name 'data_film' is not defined",
     "output_type": "error",
     "traceback": [
      "\u001b[1;31m---------------------------------------------------------------------------\u001b[0m",
      "\u001b[1;31mNameError\u001b[0m                                 Traceback (most recent call last)",
      "Cell \u001b[1;32mIn[13], line 2\u001b[0m\n\u001b[0;32m      1\u001b[0m \u001b[38;5;66;03m#Step 7\u001b[39;00m\n\u001b[1;32m----> 2\u001b[0m films \u001b[38;5;241m=\u001b[39m \u001b[43mdata_film\u001b[49m[\u001b[38;5;124m'\u001b[39m\u001b[38;5;124mresults\u001b[39m\u001b[38;5;124m'\u001b[39m]\n\u001b[0;32m      3\u001b[0m film_character_count \u001b[38;5;241m=\u001b[39m []\n\u001b[0;32m      4\u001b[0m \u001b[38;5;28;01mfor\u001b[39;00m film \u001b[38;5;129;01min\u001b[39;00m films:\n",
      "\u001b[1;31mNameError\u001b[0m: name 'data_film' is not defined"
     ]
    }
   ],
   "source": [
    "#Step 7\n",
    "films = data_film['results']\n",
    "film_character_count = []\n",
    "for film in films:\n",
    "    characters = film.get('characters', [])\n",
    "    film_character_count.append({'title': film['title'], 'character_count': len(characters)})\n",
    "ranked_films = sorted(film_character_count, key=lambda x: x['character_count'], reverse=True) # Rank films by number of characters\n",
    "print(\"Films ranked by number of characters:\")\n",
    "for film in ranked_films:\n",
    "    print(f\"{film['title']}: {film['character_count']} characters\")"
   ]
  },
  {
   "cell_type": "code",
   "execution_count": 14,
   "metadata": {},
   "outputs": [
    {
     "name": "stdout",
     "output_type": "stream",
     "text": [
      "Failed to fetch starship information. Status Code: 404\n"
     ]
    }
   ],
   "source": [
    "#Step 8\n",
    "url_starships = 'https://swapi.dev/api/starships/'\n",
    "response = requests.get(url_starships)\n",
    "if response.status_code == 200:\n",
    "    starships_data = response.json()\n",
    "    print(f\"Starships: {starships_data}\")\n",
    "else:\n",
    "    print(f\"Failed to fetch starship information. Status Code: {response.status_code}\")"
   ]
  },
  {
   "cell_type": "markdown",
   "metadata": {},
   "source": [
    "--------------------------"
   ]
  },
  {
   "cell_type": "markdown",
   "metadata": {},
   "source": [
    "# Exploring GraphQL APIs"
   ]
  },
  {
   "cell_type": "markdown",
   "metadata": {},
   "source": [
    "Usefull links:\n",
    "- https://graphql.org/learn/queries/\n",
    "- https://graphql-demo.mead.io/\n",
    "\n",
    "Use this graphQL API to make complex requests on Star Wars world:\n",
    "- https://swapi-graphql.netlify.app/"
   ]
  },
  {
   "cell_type": "markdown",
   "metadata": {},
   "source": [
    "On the below cell you have a simple graphQL query."
   ]
  },
  {
   "cell_type": "markdown",
   "metadata": {},
   "source": [
    "# Exploring Star Wars Data with GraphQL\n",
    "\n",
    "### Introduction \n",
    "\n",
    "In this exercice you will retrieve the previous results in another way, by consuming the GraphQL API of SWAPI.\n",
    "\n",
    "### Few elements to remember about the GraphQL Protocol\n",
    "\n",
    "GraphQL is a powerful query language for APIs that provides a more efficient and flexible alternative to traditional REST APIs. In this exercise, we will interact with the Star Wars API (SWAPI) using GraphQL to retrieve specific information about characters, films, and species from the Star Wars universe. Some important aspects are:\n",
    "\n",
    "- **Single Endpoint:** GraphQL APIs typically have a single endpoint for all queries, making it more straightforward to manage and interact with.\n",
    "\n",
    "- **Flexible Responses:** Clients receive exactly the data they request, reducing over-fetching of data common in traditional REST APIs.\n",
    "\n",
    "- **Introspection:** GraphQL supports introspection, allowing clients to query the schema itself, making it self-documenting and aiding in development.\n",
    "\n",
    "### Key Concepts in GraphQL:\n",
    "\n",
    "- **GraphQL Schema:** GraphQL APIs have a schema that defines the types of data available and the relationships between them.\n",
    "\n",
    "- **Queries:** In GraphQL, clients specify the exact data they need using queries, allowing for more efficient data retrieval.\n",
    "\n",
    "- **Fields and Nested Structures:** Queries can include specific fields, and GraphQL supports nested structures to retrieve related data in a single request.\n",
    "\n",
    "\n",
    "### Objective\n",
    "\n",
    "- **Step 1: Introduction:** Understand the REST API Query. You can use the playground for this : https://swapi-graphql.netlify.app/?query=%7B%0A%20%20allFilms%20%7B%0A%20%20%20%20edges%20%7B%0A%20%20%20%20%20%20node%20%7B%0A%20%20%20%20%20%20%20%20id%2C%0A%20%20%20%20%20%20%20%20title%0A%20%20%20%20%20%20%7D%0A%20%20%20%20%7D%0A%20%20%7D%0A%7D\n",
    "\n",
    "- **Step 2: Retrieve Films with Character Information:** Retrieve Films with Character Information in a single query.\n",
    "\n",
    "\n",
    "### Documentation link :\n",
    "\n",
    "- https://swapi.dev/documentation"
   ]
  },
  {
   "cell_type": "code",
   "execution_count": 15,
   "metadata": {},
   "outputs": [
    {
     "name": "stdout",
     "output_type": "stream",
     "text": [
      "Response Status Code (All Films): 400\n",
      "Failed to fetch films. Status Code: 400\n"
     ]
    }
   ],
   "source": [
    "import requests\n",
    "url = \"https://swapi-graphql.netlify.app/.netlify/functions/index\"\n",
    "\n",
    "#Retrieve All Films\n",
    "query_all_films = \"\"\"\n",
    "query {\n",
    "  allFilms {\n",
    "    edges {\n",
    "      node {\n",
    "        id\n",
    "        title\n",
    "        director\n",
    "        releaseDate\n",
    "      }\n",
    "    }\n",
    "  }\n",
    "}\n",
    "\"\"\"\n",
    "\n",
    "response = requests.post(url, json={\"query\": query_all_films})\n",
    "print(\"Response Status Code (All Films):\", response.status_code)\n",
    "\n",
    "if response.status_code == 200:\n",
    "    data_all_films = response.json()\n",
    "    print(\"All Films Data:\", data_all_films)\n",
    "else:\n",
    "    print(\"Failed to fetch films. Status Code:\", response.status_code)"
   ]
  },
  {
   "cell_type": "code",
   "execution_count": 16,
   "metadata": {},
   "outputs": [
    {
     "name": "stdout",
     "output_type": "stream",
     "text": [
      "Response Status Code (Films with Characters): 400\n",
      "Failed to fetch films with character information. Status Code: 400\n"
     ]
    }
   ],
   "source": [
    "#Retrieve Films with Character Information\n",
    "query_films_with_characters = \"\"\"\n",
    "query {\n",
    "  allFilms {\n",
    "    edges {\n",
    "      node {\n",
    "        title\n",
    "        characters {\n",
    "          edges {\n",
    "            node {\n",
    "              name\n",
    "              gender\n",
    "            }\n",
    "          }\n",
    "        }\n",
    "      }\n",
    "    }\n",
    "  }\n",
    "}\n",
    "\"\"\"\n",
    "\n",
    "response = requests.post(url, json={\"query\": query_films_with_characters})\n",
    "print(\"Response Status Code (Films with Characters):\", response.status_code)\n",
    "\n",
    "if response.status_code == 200:\n",
    "    data_films_with_characters = response.json()\n",
    "    print(\"Films with Characters Data:\", data_films_with_characters)\n",
    "else:\n",
    "    print(\"Failed to fetch films with character information. Status Code:\", response.status_code)\n"
   ]
  },
  {
   "cell_type": "markdown",
   "metadata": {},
   "source": [
    "---------------------------"
   ]
  }
 ],
 "metadata": {
  "kernelspec": {
   "display_name": "Python 3",
   "language": "python",
   "name": "python3"
  },
  "language_info": {
   "codemirror_mode": {
    "name": "ipython",
    "version": 3
   },
   "file_extension": ".py",
   "mimetype": "text/x-python",
   "name": "python",
   "nbconvert_exporter": "python",
   "pygments_lexer": "ipython3",
   "version": "3.12.2"
  },
  "orig_nbformat": 4
 },
 "nbformat": 4,
 "nbformat_minor": 2
}
